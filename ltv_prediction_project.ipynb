{
 "cells": [
  {
   "cell_type": "markdown",
   "id": "f4d5af8d",
   "metadata": {},
   "source": [
    "# 🧠 Customer Lifetime Value (LTV) Prediction\n",
    "This notebook predicts customer lifetime value based on purchase history using recency, frequency, and average order value."
   ]
  },
  {
   "cell_type": "code",
   "execution_count": null,
   "id": "167f0ded",
   "metadata": {},
   "outputs": [],
   "source": [
    "\n",
    "import pandas as pd\n",
    "import numpy as np\n",
    "import matplotlib.pyplot as plt\n",
    "from xgboost import XGBRegressor\n",
    "from sklearn.model_selection import train_test_split\n",
    "from sklearn.metrics import mean_absolute_error, mean_squared_error\n"
   ]
  },
  {
   "cell_type": "code",
   "execution_count": null,
   "id": "00727ced",
   "metadata": {},
   "outputs": [],
   "source": [
    "\n",
    "from google.colab import files\n",
    "uploaded = files.upload()  # Upload the downloaded CSV here\n"
   ]
  },
  {
   "cell_type": "code",
   "execution_count": null,
   "id": "bb776247",
   "metadata": {},
   "outputs": [],
   "source": [
    "\n",
    "df = pd.read_csv('customer_orders.csv')\n",
    "df['order_date'] = pd.to_datetime(df['order_date'])\n",
    "df.head()\n"
   ]
  },
  {
   "cell_type": "code",
   "execution_count": null,
   "id": "e3b1b553",
   "metadata": {},
   "outputs": [],
   "source": [
    "\n",
    "# Set reference date as max date + 1 day\n",
    "NOW = df['order_date'].max() + pd.Timedelta(days=1)\n",
    "\n",
    "# Calculate Recency, Frequency, Monetary, AOV\n",
    "rfm = df.groupby('customer_id').agg({\n",
    "    'order_date': lambda x: (NOW - x.max()).days,\n",
    "    'order_id': 'nunique',\n",
    "    'order_amount': ['sum', 'mean']\n",
    "})\n",
    "rfm.columns = ['recency', 'frequency', 'monetary', 'aov']\n",
    "rfm.reset_index(inplace=True)\n",
    "rfm.head()\n"
   ]
  },
  {
   "cell_type": "code",
   "execution_count": null,
   "id": "1e087fac",
   "metadata": {},
   "outputs": [],
   "source": [
    "\n",
    "X = rfm[['recency', 'frequency', 'aov']]\n",
    "y = rfm['monetary']\n",
    "\n",
    "X_train, X_test, y_train, y_test = train_test_split(X, y, test_size=0.2, random_state=42)\n",
    "\n",
    "model = XGBRegressor()\n",
    "model.fit(X_train, y_train)\n",
    "y_pred = model.predict(X_test)\n"
   ]
  },
  {
   "cell_type": "code",
   "execution_count": null,
   "id": "befd7819",
   "metadata": {},
   "outputs": [],
   "source": [
    "\n",
    "mae = mean_absolute_error(y_test, y_pred)\n",
    "rmse = mean_squared_error(y_test, y_pred, squared=False)\n",
    "\n",
    "print(f\"MAE: {mae:.2f}\")\n",
    "print(f\"RMSE: {rmse:.2f}\")\n"
   ]
  },
  {
   "cell_type": "code",
   "execution_count": null,
   "id": "c6666419",
   "metadata": {},
   "outputs": [],
   "source": [
    "\n",
    "rfm['predicted_ltv'] = model.predict(X)\n",
    "rfm['segment'] = pd.qcut(rfm['predicted_ltv'], 4, labels=['Low', 'Medium', 'High', 'Very High'])\n",
    "rfm.head()\n"
   ]
  },
  {
   "cell_type": "code",
   "execution_count": null,
   "id": "0276a044",
   "metadata": {},
   "outputs": [],
   "source": [
    "\n",
    "rfm.to_csv('predicted_ltv_customers.csv', index=False)\n",
    "files.download('predicted_ltv_customers.csv')\n"
   ]
  },
  {
   "cell_type": "code",
   "execution_count": null,
   "id": "45eb3e91",
   "metadata": {},
   "outputs": [],
   "source": [
    "\n",
    "import seaborn as sns\n",
    "plt.figure(figsize=(8, 4))\n",
    "sns.boxplot(x='segment', y='predicted_ltv', data=rfm)\n",
    "plt.title(\"Predicted LTV by Segment\")\n",
    "plt.show()\n"
   ]
  },
  {
   "cell_type": "markdown",
   "id": "0b59a38e",
   "metadata": {},
   "source": [
    "\n",
    "## ✅ Outputs Generated:\n",
    "- Trained XGBoost model\n",
    "- LTV predictions for each customer\n",
    "- MAE and RMSE scores\n",
    "- Customer segments based on LTV\n",
    "- CSV file: `predicted_ltv_customers.csv`\n"
   ]
  }
 ],
 "metadata": {},
 "nbformat": 4,
 "nbformat_minor": 5
}